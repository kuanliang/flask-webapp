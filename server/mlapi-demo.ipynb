{
 "cells": [
  {
   "cell_type": "code",
   "execution_count": 1,
   "metadata": {
    "collapsed": false
   },
   "outputs": [
    {
     "name": "stderr",
     "output_type": "stream",
     "text": [
      "/Users/hadoop1/anaconda/lib/python2.7/site-packages/pandas/computation/__init__.py:19: UserWarning: The installed version of numexpr 2.4.4 is not supported in pandas and will be not be used\n",
      "\n",
      "  UserWarning)\n"
     ]
    }
   ],
   "source": [
    "import surlib"
   ]
  },
  {
   "cell_type": "code",
   "execution_count": 2,
   "metadata": {
    "collapsed": true
   },
   "outputs": [],
   "source": [
    "queryDf = surlib.createQueryDf('./data/query12-Normal/', tag='Normal')"
   ]
  },
  {
   "cell_type": "code",
   "execution_count": 4,
   "metadata": {
    "collapsed": false
   },
   "outputs": [],
   "source": [
    "queryDf1 = queryDf.iloc[0:1,0:-1]"
   ]
  },
  {
   "cell_type": "code",
   "execution_count": 5,
   "metadata": {
    "collapsed": false
   },
   "outputs": [
    {
     "data": {
      "text/html": [
       "<div>\n",
       "<table border=\"1\" class=\"dataframe\">\n",
       "  <thead>\n",
       "    <tr style=\"text-align: right;\">\n",
       "      <th>comp_metric</th>\n",
       "      <th>LD_Battery_Left_x</th>\n",
       "      <th>LD_Battery_Left_y</th>\n",
       "      <th>LD_Battery_Left_theta</th>\n",
       "      <th>LD_Battery_Up_x</th>\n",
       "      <th>LD_Battery_Up_y</th>\n",
       "      <th>LD_Battery_Up_theta</th>\n",
       "      <th>LD_Camera_LD_x</th>\n",
       "      <th>LD_Camera_LD_y</th>\n",
       "      <th>LD_Camera_LD_theta</th>\n",
       "      <th>LD_Camera_RU_x</th>\n",
       "      <th>...</th>\n",
       "      <th>LU_Battery_Right_z</th>\n",
       "      <th>LU_Button_LD_z</th>\n",
       "      <th>LU_Button_RU_z</th>\n",
       "      <th>LU_MainBoard_LD_z</th>\n",
       "      <th>LU_MainBoard_RD_z</th>\n",
       "      <th>LU_MainBoard_Sim_z</th>\n",
       "      <th>LU_Motor_LD_z</th>\n",
       "      <th>LU_Motor_RU_z</th>\n",
       "      <th>LU_Voice_LD_z</th>\n",
       "      <th>LU_Voice_RU_z</th>\n",
       "    </tr>\n",
       "  </thead>\n",
       "  <tbody>\n",
       "    <tr>\n",
       "      <th>FLQS2044GRWY_avg</th>\n",
       "      <td>-0.005219</td>\n",
       "      <td>0.121188</td>\n",
       "      <td>-0.044156</td>\n",
       "      <td>0.050063</td>\n",
       "      <td>-0.052594</td>\n",
       "      <td>-0.067062</td>\n",
       "      <td>-0.030813</td>\n",
       "      <td>-0.001812</td>\n",
       "      <td>-0.035594</td>\n",
       "      <td>-0.011594</td>\n",
       "      <td>...</td>\n",
       "      <td>0.101056</td>\n",
       "      <td>0.054029</td>\n",
       "      <td>0.014975</td>\n",
       "      <td>0.063761</td>\n",
       "      <td>0.032522</td>\n",
       "      <td>0.054518</td>\n",
       "      <td>0.034081</td>\n",
       "      <td>0.077491</td>\n",
       "      <td>0.038727</td>\n",
       "      <td>0.053734</td>\n",
       "    </tr>\n",
       "  </tbody>\n",
       "</table>\n",
       "<p>1 rows × 120 columns</p>\n",
       "</div>"
      ],
      "text/plain": [
       "comp_metric       LD_Battery_Left_x  LD_Battery_Left_y  LD_Battery_Left_theta  \\\n",
       "FLQS2044GRWY_avg          -0.005219           0.121188              -0.044156   \n",
       "\n",
       "comp_metric       LD_Battery_Up_x  LD_Battery_Up_y  LD_Battery_Up_theta  \\\n",
       "FLQS2044GRWY_avg         0.050063        -0.052594            -0.067062   \n",
       "\n",
       "comp_metric       LD_Camera_LD_x  LD_Camera_LD_y  LD_Camera_LD_theta  \\\n",
       "FLQS2044GRWY_avg       -0.030813       -0.001812           -0.035594   \n",
       "\n",
       "comp_metric       LD_Camera_RU_x      ...        LU_Battery_Right_z  \\\n",
       "FLQS2044GRWY_avg       -0.011594      ...                  0.101056   \n",
       "\n",
       "comp_metric       LU_Button_LD_z  LU_Button_RU_z  LU_MainBoard_LD_z  \\\n",
       "FLQS2044GRWY_avg        0.054029        0.014975           0.063761   \n",
       "\n",
       "comp_metric       LU_MainBoard_RD_z  LU_MainBoard_Sim_z  LU_Motor_LD_z  \\\n",
       "FLQS2044GRWY_avg           0.032522            0.054518       0.034081   \n",
       "\n",
       "comp_metric       LU_Motor_RU_z  LU_Voice_LD_z  LU_Voice_RU_z  \n",
       "FLQS2044GRWY_avg       0.077491       0.038727       0.053734  \n",
       "\n",
       "[1 rows x 120 columns]"
      ]
     },
     "execution_count": 5,
     "metadata": {},
     "output_type": "execute_result"
    }
   ],
   "source": [
    "queryDf1"
   ]
  },
  {
   "cell_type": "code",
   "execution_count": 14,
   "metadata": {
    "collapsed": true
   },
   "outputs": [],
   "source": [
    "import json"
   ]
  },
  {
   "cell_type": "code",
   "execution_count": 25,
   "metadata": {
    "collapsed": true
   },
   "outputs": [],
   "source": [
    "import requests"
   ]
  },
  {
   "cell_type": "code",
   "execution_count": 19,
   "metadata": {
    "collapsed": false
   },
   "outputs": [],
   "source": [
    "data = json.dumps(data)"
   ]
  },
  {
   "cell_type": "code",
   "execution_count": 21,
   "metadata": {
    "collapsed": false
   },
   "outputs": [
    {
     "data": {
      "text/plain": [
       "str"
      ]
     },
     "execution_count": 21,
     "metadata": {},
     "output_type": "execute_result"
    }
   ],
   "source": [
    "type(data)"
   ]
  },
  {
   "cell_type": "code",
   "execution_count": 12,
   "metadata": {
    "collapsed": false
   },
   "outputs": [],
   "source": [
    "data = queryDf1.iloc[0].to_dict()"
   ]
  },
  {
   "cell_type": "code",
   "execution_count": 35,
   "metadata": {
    "collapsed": false
   },
   "outputs": [
    {
     "data": {
      "text/plain": [
       "'{\"LD_Battery_Left_z\": 0.14055468163266002, \"LD_Battery_Left_x\": -0.0052187499999999986, \"LD_Battery_Left_y\": 0.1211875, \"LU_Motor_LD_thetaAbs\": 0.66346875000000005, \"LD_MainBoard_LU_theta\": -0.036562500000000012, \"LU_MainBoard_LD_thetaAbs\": 0.44612499999999994, \"LD_NFC_Down_thetaAbs\": 0.046437500000000007, \"LD_Battery_Left_thetaAbs\": 0.05821875, \"LU_MainBoard_RD_theta\": -0.027000000000000017, \"LD_Battery_Up_theta\": -0.067062499999999983, \"LD_Battery_Left_theta\": -0.044156250000000001, \"LD_Camera_RU_y\": 3.1250000000000001e-05, \"LD_Camera_RU_x\": -0.011593750000000002, \"LD_Camera_RU_z\": 0.011796982408763441, \"LU_Motor_LD_theta\": -0.66346875000000005, \"LU_Motor_RU_y\": 0.065031249999999999, \"LU_Motor_RU_x\": 0.038187499999999992, \"LU_Motor_RU_z\": 0.077491327897370871, \"LD_Camera_RU_theta\": -0.042750000000000003, \"LD_Camera_RU_thetaAbs\": 0.042750000000000003, \"LU_Voice_RU_x\": 0.050718749999999993, \"LU_MainBoard_RD_y\": -0.0054062500000000013, \"LU_Motor_LD_x\": 0.025687500000000009, \"LU_Voice_RU_thetaAbs\": 0.65731250000000008, \"LD_MainBoard_LU_y\": -0.0050000000000000001, \"LD_Earphone_RU_x\": -0.015781250000000007, \"LD_Earphone_RU_y\": -0.0021562500000000006, \"LD_Earphone_RU_z\": 0.016818457714848939, \"LD_Earphone_LD_theta\": -0.037437500000000012, \"LU_MainBoard_LD_x\": 0.024656250000000008, \"LU_MainBoard_LD_y\": 0.054937499999999993, \"LU_MainBoard_LD_z\": 0.063760768944201976, \"LD_MainBoard_RU_theta\": -0.039312500000000014, \"LU_Battery_Right_theta\": 0.028625000000000005, \"LD_Front_Camera_LD_theta\": -0.033000000000000008, \"LU_MainBoard_RD_z\": 0.032522411378035139, \"LU_Button_RU_thetaAbs\": 0.010937500000000006, \"LU_MainBoard_RD_x\": 0.028562500000000008, \"LD_Front_Camera_LD_x\": -0.029593750000000009, \"LU_Voice_RU_theta\": -0.65731250000000008, \"LD_Earphone_RU_thetaAbs\": 0.040312500000000008, \"LU_MainBoard_LD_theta\": -0.44612499999999994, \"LU_MainBoard_RD_thetaAbs\": 0.027000000000000017, \"LU_Voice_RU_z\": 0.053733875884137965, \"LU_Motor_RU_theta\": 0.011125000000000005, \"LD_MainBoard_LU_z\": 0.025747047040542509, \"LD_MainBoard_LU_x\": -0.023093750000000014, \"LD_Battery_Up_thetaAbs\": 0.080250000000000016, \"LU_Voice_RU_y\": 0.010531250000000002, \"LD_Camera_LD_z\": 0.039126727347066181, \"LD_Earphone_LD_thetaAbs\": 0.037437500000000012, \"LD_Camera_LD_y\": -0.0018124999999999999, \"LD_NFC_Up_x\": -0.024718750000000008, \"LD_NFC_Up_y\": 0.0094062499999999997, \"LD_NFC_Up_z\": 0.039592639611027373, \"LD_Camera_LD_x\": -0.03081250000000001, \"LU_Battery_Right_thetaAbs\": 0.040625000000000001, \"LD_MainBoard_RU_thetaAbs\": 0.039312500000000014, \"LD_NFC_Up_theta\": -0.040031250000000011, \"LU_Battery_Right_y\": -0.066093750000000007, \"LU_Button_RU_z\": 0.014975435984916798, \"LU_Button_RU_y\": -0.002562500000000001, \"LU_Button_RU_x\": 0.0082812499999999969, \"LU_MainBoard_Sim_z\": 0.054518147223553588, \"LU_MainBoard_Sim_x\": 0.047625000000000008, \"LU_MainBoard_Sim_y\": 0.0016874999999999987, \"LD_MainBoard_RU_z\": 0.026882243014690721, \"LU_Motor_RU_thetaAbs\": 0.011125000000000005, \"LD_MainBoard_Corner_theta\": -0.035593750000000007, \"LD_Front_Camera_RU_z\": 0.032672997152306885, \"LD_Front_Camera_RU_y\": -0.006000000000000001, \"LD_Front_Camera_RU_x\": -0.012437500000000001, \"LD_MainBoard_Corner_x\": -0.028156250000000018, \"LD_MainBoard_Corner_y\": -0.0011249999999999997, \"LD_MainBoard_Corner_z\": 0.029251974835998954, \"LD_NFC_Down_theta\": -0.046437500000000007, \"LU_Motor_LD_z\": 0.034080947258980657, \"LU_Button_RU_theta\": -0.010937500000000006, \"LU_Battery_Down_z\": 0.1467261372572139, \"LU_Battery_Down_x\": 0.041593749999999999, \"LU_Battery_Down_y\": -0.072999999999999968, \"LU_Voice_LD_z\": 0.038726500102409182, \"LD_Front_Camera_RU_theta\": -0.041156250000000005, \"LD_Earphone_LD_z\": 0.049865337414728782, \"LD_Earphone_LD_y\": 0.0092187499999999978, \"LD_Earphone_LD_x\": -0.026218750000000002, \"LU_Button_LD_x\": 0.00975, \"LU_Button_LD_y\": -0.051906250000000022, \"LU_Button_LD_z\": 0.05402868452808849, \"LD_MainBoard_RU_x\": -0.021968750000000013, \"LD_MainBoard_RU_y\": 0.0024062500000000004, \"LD_Front_Camera_RU_thetaAbs\": 0.041156250000000005, \"LU_Battery_Right_x\": 0.030437500000000006, \"LU_Voice_LD_theta\": -0.033937500000000009, \"LD_Camera_LD_thetaAbs\": 0.035593750000000007, \"LD_MainBoard_LU_thetaAbs\": 0.036562500000000012, \"LU_Voice_LD_y\": -0.0069687499999999975, \"LU_Voice_LD_x\": 0.014374999999999997, \"LD_MainBoard_Corner_thetaAbs\": 0.035593750000000007, \"LU_Button_LD_thetaAbs\": 0.24790625000000008, \"LD_Battery_Up_x\": 0.05006250000000001, \"LD_Battery_Up_y\": -0.052593749999999995, \"LD_Battery_Up_z\": 0.11035361305732905, \"LU_Battery_Right_z\": 0.101055534897435, \"LD_NFC_Down_y\": 0.011156250000000001, \"LD_NFC_Down_x\": -0.0064687500000000023, \"LD_Camera_LD_theta\": -0.035593750000000007, \"LD_NFC_Down_z\": 0.020037539034424907, \"LU_Motor_LD_y\": -0.0061874999999999994, \"LU_Button_LD_theta\": -0.24790625000000008, \"LU_MainBoard_Sim_theta\": -0.65146874999999982, \"LU_Voice_LD_thetaAbs\": 0.03431250000000001, \"LU_MainBoard_Sim_thetaAbs\": 0.65146874999999982, \"LU_Battery_Down_theta\": -0.65025000000000011, \"LD_Earphone_RU_theta\": -0.040312500000000008, \"LD_Front_Camera_LD_y\": -0.041250000000000002, \"LD_Front_Camera_LD_z\": 0.060041586019575349, \"LD_Front_Camera_LD_thetaAbs\": 0.033000000000000008, \"LU_Battery_Down_thetaAbs\": 0.65025000000000011, \"LD_NFC_Up_thetaAbs\": 0.040031250000000011}'"
      ]
     },
     "execution_count": 35,
     "metadata": {},
     "output_type": "execute_result"
    }
   ],
   "source": [
    "data"
   ]
  },
  {
   "cell_type": "code",
   "execution_count": 38,
   "metadata": {
    "collapsed": false
   },
   "outputs": [],
   "source": [
    "url = 'http://localhost:5000/sur_predict'\n",
    "r = requests.post(url, data)"
   ]
  },
  {
   "cell_type": "code",
   "execution_count": 41,
   "metadata": {
    "collapsed": false
   },
   "outputs": [
    {
     "ename": "ValueError",
     "evalue": "No JSON object could be decoded",
     "output_type": "error",
     "traceback": [
      "\u001b[0;31m---------------------------------------------------------------------------\u001b[0m",
      "\u001b[0;31mValueError\u001b[0m                                Traceback (most recent call last)",
      "\u001b[0;32m<ipython-input-41-896b6d0dfa31>\u001b[0m in \u001b[0;36m<module>\u001b[0;34m()\u001b[0m\n\u001b[0;32m----> 1\u001b[0;31m \u001b[0;32mprint\u001b[0m \u001b[0mr\u001b[0m\u001b[0;34m.\u001b[0m\u001b[0mjson\u001b[0m\u001b[0;34m(\u001b[0m\u001b[0;34m)\u001b[0m\u001b[0;34m\u001b[0m\u001b[0m\n\u001b[0m",
      "\u001b[0;32m/Users/hadoop1/anaconda/lib/python2.7/site-packages/requests/models.pyc\u001b[0m in \u001b[0;36mjson\u001b[0;34m(self, **kwargs)\u001b[0m\n\u001b[1;32m    810\u001b[0m                     \u001b[0;31m# used.\u001b[0m\u001b[0;34m\u001b[0m\u001b[0;34m\u001b[0m\u001b[0m\n\u001b[1;32m    811\u001b[0m                     \u001b[0;32mpass\u001b[0m\u001b[0;34m\u001b[0m\u001b[0m\n\u001b[0;32m--> 812\u001b[0;31m         \u001b[0;32mreturn\u001b[0m \u001b[0mcomplexjson\u001b[0m\u001b[0;34m.\u001b[0m\u001b[0mloads\u001b[0m\u001b[0;34m(\u001b[0m\u001b[0mself\u001b[0m\u001b[0;34m.\u001b[0m\u001b[0mtext\u001b[0m\u001b[0;34m,\u001b[0m \u001b[0;34m**\u001b[0m\u001b[0mkwargs\u001b[0m\u001b[0;34m)\u001b[0m\u001b[0;34m\u001b[0m\u001b[0m\n\u001b[0m\u001b[1;32m    813\u001b[0m \u001b[0;34m\u001b[0m\u001b[0m\n\u001b[1;32m    814\u001b[0m     \u001b[0;34m@\u001b[0m\u001b[0mproperty\u001b[0m\u001b[0;34m\u001b[0m\u001b[0m\n",
      "\u001b[0;32m/Users/hadoop1/anaconda/lib/python2.7/json/__init__.pyc\u001b[0m in \u001b[0;36mloads\u001b[0;34m(s, encoding, cls, object_hook, parse_float, parse_int, parse_constant, object_pairs_hook, **kw)\u001b[0m\n\u001b[1;32m    336\u001b[0m             \u001b[0mparse_int\u001b[0m \u001b[0;32mis\u001b[0m \u001b[0mNone\u001b[0m \u001b[0;32mand\u001b[0m \u001b[0mparse_float\u001b[0m \u001b[0;32mis\u001b[0m \u001b[0mNone\u001b[0m \u001b[0;32mand\u001b[0m\u001b[0;34m\u001b[0m\u001b[0m\n\u001b[1;32m    337\u001b[0m             parse_constant is None and object_pairs_hook is None and not kw):\n\u001b[0;32m--> 338\u001b[0;31m         \u001b[0;32mreturn\u001b[0m \u001b[0m_default_decoder\u001b[0m\u001b[0;34m.\u001b[0m\u001b[0mdecode\u001b[0m\u001b[0;34m(\u001b[0m\u001b[0ms\u001b[0m\u001b[0;34m)\u001b[0m\u001b[0;34m\u001b[0m\u001b[0m\n\u001b[0m\u001b[1;32m    339\u001b[0m     \u001b[0;32mif\u001b[0m \u001b[0mcls\u001b[0m \u001b[0;32mis\u001b[0m \u001b[0mNone\u001b[0m\u001b[0;34m:\u001b[0m\u001b[0;34m\u001b[0m\u001b[0m\n\u001b[1;32m    340\u001b[0m         \u001b[0mcls\u001b[0m \u001b[0;34m=\u001b[0m \u001b[0mJSONDecoder\u001b[0m\u001b[0;34m\u001b[0m\u001b[0m\n",
      "\u001b[0;32m/Users/hadoop1/anaconda/lib/python2.7/json/decoder.pyc\u001b[0m in \u001b[0;36mdecode\u001b[0;34m(self, s, _w)\u001b[0m\n\u001b[1;32m    364\u001b[0m \u001b[0;34m\u001b[0m\u001b[0m\n\u001b[1;32m    365\u001b[0m         \"\"\"\n\u001b[0;32m--> 366\u001b[0;31m         \u001b[0mobj\u001b[0m\u001b[0;34m,\u001b[0m \u001b[0mend\u001b[0m \u001b[0;34m=\u001b[0m \u001b[0mself\u001b[0m\u001b[0;34m.\u001b[0m\u001b[0mraw_decode\u001b[0m\u001b[0;34m(\u001b[0m\u001b[0ms\u001b[0m\u001b[0;34m,\u001b[0m \u001b[0midx\u001b[0m\u001b[0;34m=\u001b[0m\u001b[0m_w\u001b[0m\u001b[0;34m(\u001b[0m\u001b[0ms\u001b[0m\u001b[0;34m,\u001b[0m \u001b[0;36m0\u001b[0m\u001b[0;34m)\u001b[0m\u001b[0;34m.\u001b[0m\u001b[0mend\u001b[0m\u001b[0;34m(\u001b[0m\u001b[0;34m)\u001b[0m\u001b[0;34m)\u001b[0m\u001b[0;34m\u001b[0m\u001b[0m\n\u001b[0m\u001b[1;32m    367\u001b[0m         \u001b[0mend\u001b[0m \u001b[0;34m=\u001b[0m \u001b[0m_w\u001b[0m\u001b[0;34m(\u001b[0m\u001b[0ms\u001b[0m\u001b[0;34m,\u001b[0m \u001b[0mend\u001b[0m\u001b[0;34m)\u001b[0m\u001b[0;34m.\u001b[0m\u001b[0mend\u001b[0m\u001b[0;34m(\u001b[0m\u001b[0;34m)\u001b[0m\u001b[0;34m\u001b[0m\u001b[0m\n\u001b[1;32m    368\u001b[0m         \u001b[0;32mif\u001b[0m \u001b[0mend\u001b[0m \u001b[0;34m!=\u001b[0m \u001b[0mlen\u001b[0m\u001b[0;34m(\u001b[0m\u001b[0ms\u001b[0m\u001b[0;34m)\u001b[0m\u001b[0;34m:\u001b[0m\u001b[0;34m\u001b[0m\u001b[0m\n",
      "\u001b[0;32m/Users/hadoop1/anaconda/lib/python2.7/json/decoder.pyc\u001b[0m in \u001b[0;36mraw_decode\u001b[0;34m(self, s, idx)\u001b[0m\n\u001b[1;32m    382\u001b[0m             \u001b[0mobj\u001b[0m\u001b[0;34m,\u001b[0m \u001b[0mend\u001b[0m \u001b[0;34m=\u001b[0m \u001b[0mself\u001b[0m\u001b[0;34m.\u001b[0m\u001b[0mscan_once\u001b[0m\u001b[0;34m(\u001b[0m\u001b[0ms\u001b[0m\u001b[0;34m,\u001b[0m \u001b[0midx\u001b[0m\u001b[0;34m)\u001b[0m\u001b[0;34m\u001b[0m\u001b[0m\n\u001b[1;32m    383\u001b[0m         \u001b[0;32mexcept\u001b[0m \u001b[0mStopIteration\u001b[0m\u001b[0;34m:\u001b[0m\u001b[0;34m\u001b[0m\u001b[0m\n\u001b[0;32m--> 384\u001b[0;31m             \u001b[0;32mraise\u001b[0m \u001b[0mValueError\u001b[0m\u001b[0;34m(\u001b[0m\u001b[0;34m\"No JSON object could be decoded\"\u001b[0m\u001b[0;34m)\u001b[0m\u001b[0;34m\u001b[0m\u001b[0m\n\u001b[0m\u001b[1;32m    385\u001b[0m         \u001b[0;32mreturn\u001b[0m \u001b[0mobj\u001b[0m\u001b[0;34m,\u001b[0m \u001b[0mend\u001b[0m\u001b[0;34m\u001b[0m\u001b[0m\n",
      "\u001b[0;31mValueError\u001b[0m: No JSON object could be decoded"
     ]
    }
   ],
   "source": [
    "print r.json()"
   ]
  },
  {
   "cell_type": "code",
   "execution_count": null,
   "metadata": {
    "collapsed": true
   },
   "outputs": [],
   "source": []
  }
 ],
 "metadata": {
  "kernelspec": {
   "display_name": "Python 2",
   "language": "python",
   "name": "python2"
  },
  "language_info": {
   "codemirror_mode": {
    "name": "ipython",
    "version": 2
   },
   "file_extension": ".py",
   "mimetype": "text/x-python",
   "name": "python",
   "nbconvert_exporter": "python",
   "pygments_lexer": "ipython2",
   "version": "2.7.9"
  },
  "latex_envs": {
   "bibliofile": "biblio.bib",
   "cite_by": "apalike",
   "current_citInitial": 1,
   "eqLabelWithNumbers": true,
   "eqNumInitial": 0
  }
 },
 "nbformat": 4,
 "nbformat_minor": 0
}
